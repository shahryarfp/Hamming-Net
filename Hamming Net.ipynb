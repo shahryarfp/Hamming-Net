{
 "cells": [
  {
   "cell_type": "code",
   "execution_count": 10,
   "id": "108196fa",
   "metadata": {},
   "outputs": [],
   "source": [
    "import numpy as np\n",
    "import copy"
   ]
  },
  {
   "cell_type": "markdown",
   "id": "e24603d8",
   "metadata": {},
   "source": [
    "### Functions"
   ]
  },
  {
   "cell_type": "code",
   "execution_count": 2,
   "id": "e0f0e7b8",
   "metadata": {},
   "outputs": [],
   "source": [
    "def Hamming_distance(v1,v2):\n",
    "    distance = 0\n",
    "    if len(v1)==len(v2):\n",
    "        for i in range(len(v1)):\n",
    "            if v1[i]!= v2[i]:\n",
    "                distance += 1\n",
    "    return distance\n",
    "\n",
    "def print_hamming_dis(v1,v2):\n",
    "    print('Hamming distance between', v1, 'and', v2, 'is:')\n",
    "    print(Hamming_distance(v1,v2))\n",
    "\n",
    "def relu(x):\n",
    "    if x>=0:\n",
    "        return x\n",
    "    else:\n",
    "        return 0\n",
    "    \n",
    "def is_finished(v):\n",
    "    count = 0\n",
    "    for i in range(len(v)):\n",
    "        if v[i] == 0:\n",
    "            count += 1\n",
    "    if count >= len(v)-1:\n",
    "        return True\n",
    "    else:\n",
    "        return False"
   ]
  },
  {
   "cell_type": "markdown",
   "id": "f3474701",
   "metadata": {},
   "source": [
    "### Defining vectors"
   ]
  },
  {
   "cell_type": "code",
   "execution_count": 3,
   "id": "e4f1de3f",
   "metadata": {},
   "outputs": [],
   "source": [
    "im_1 = [1,-1,1,-1,1,-1,-1,1,-1,1,-1,1] #X\n",
    "im_2 = [1,-1,1,-1,1,-1,-1,1,-1,-1,1,-1] #Y\n",
    "im_3 = [-1,1,-1,1,-1,1,1,1,1,1,-1,1] #A\n",
    "im_4 = [-1,1,1,1,-1,-1,1,-1,-1,-1,1,1] #C\n",
    "ims = np.array([im_1, im_2, im_3, im_4])"
   ]
  },
  {
   "cell_type": "markdown",
   "id": "84b7c09b",
   "metadata": {},
   "source": [
    "### Hamming distance between every two vectors"
   ]
  },
  {
   "cell_type": "code",
   "execution_count": 4,
   "id": "2b2965dc",
   "metadata": {},
   "outputs": [
    {
     "name": "stdout",
     "output_type": "stream",
     "text": [
      "Hamming distance between [1, -1, 1, -1, 1, -1, -1, 1, -1, 1, -1, 1] and [1, -1, 1, -1, 1, -1, -1, 1, -1, -1, 1, -1] is:\n",
      "3\n",
      "Hamming distance between [1, -1, 1, -1, 1, -1, -1, 1, -1, 1, -1, 1] and [-1, 1, -1, 1, -1, 1, 1, 1, 1, 1, -1, 1] is:\n",
      "8\n",
      "Hamming distance between [1, -1, 1, -1, 1, -1, -1, 1, -1, 1, -1, 1] and [-1, 1, 1, 1, -1, -1, 1, -1, -1, -1, 1, 1] is:\n",
      "8\n",
      "Hamming distance between [1, -1, 1, -1, 1, -1, -1, 1, -1, -1, 1, -1] and [-1, 1, -1, 1, -1, 1, 1, 1, 1, 1, -1, 1] is:\n",
      "11\n",
      "Hamming distance between [1, -1, 1, -1, 1, -1, -1, 1, -1, -1, 1, -1] and [-1, 1, 1, 1, -1, -1, 1, -1, -1, -1, 1, 1] is:\n",
      "7\n",
      "Hamming distance between [-1, 1, -1, 1, -1, 1, 1, 1, 1, 1, -1, 1] and [-1, 1, 1, 1, -1, -1, 1, -1, -1, -1, 1, 1] is:\n",
      "6\n"
     ]
    }
   ],
   "source": [
    "print_hamming_dis(im_1, im_2)\n",
    "print_hamming_dis(im_1, im_3)\n",
    "print_hamming_dis(im_1, im_4)\n",
    "print_hamming_dis(im_2, im_3)\n",
    "print_hamming_dis(im_2, im_4)\n",
    "print_hamming_dis(im_3, im_4)"
   ]
  },
  {
   "cell_type": "markdown",
   "id": "429c1302",
   "metadata": {},
   "source": [
    "## Hamming Net"
   ]
  },
  {
   "cell_type": "code",
   "execution_count": 5,
   "id": "9b201914",
   "metadata": {},
   "outputs": [
    {
     "name": "stdout",
     "output_type": "stream",
     "text": [
      "Weight Matrix:\n",
      " [[ 0.5  0.5 -0.5 -0.5]\n",
      " [-0.5 -0.5  0.5  0.5]\n",
      " [ 0.5  0.5 -0.5  0.5]\n",
      " [-0.5 -0.5  0.5  0.5]\n",
      " [ 0.5  0.5 -0.5 -0.5]\n",
      " [-0.5 -0.5  0.5 -0.5]\n",
      " [-0.5 -0.5  0.5  0.5]\n",
      " [ 0.5  0.5  0.5 -0.5]\n",
      " [-0.5 -0.5  0.5 -0.5]\n",
      " [ 0.5 -0.5  0.5 -0.5]\n",
      " [-0.5  0.5 -0.5  0.5]\n",
      " [ 0.5 -0.5  0.5  0.5]]\n",
      "\n",
      "Bias:\n",
      " [[6. 6. 6. 6.]]\n"
     ]
    }
   ],
   "source": [
    "n = 12\n",
    "m = 4\n",
    "w = np.array([im_1, im_2, im_3, im_4]).T/2\n",
    "b = np.ones([1,m])*(n/2)\n",
    "print('Weight Matrix:\\n',w)\n",
    "print()\n",
    "print('Bias:\\n',b)"
   ]
  },
  {
   "cell_type": "markdown",
   "id": "095d36d3",
   "metadata": {},
   "source": [
    "### Finding closest node to input"
   ]
  },
  {
   "cell_type": "code",
   "execution_count": 8,
   "id": "091a84f0",
   "metadata": {},
   "outputs": [],
   "source": [
    "x = np.array([1,1,1,-1,1,-1,-1,1,-1,-1,1,-1])\n",
    "\n",
    "y_in = []\n",
    "for i in range(m):\n",
    "    y_in.append(np.matmul(x, w[:,i]) + b[0][i])\n",
    "\n",
    "input_array = np.array(y_in)\n",
    "epsilon = 0.15"
   ]
  },
  {
   "cell_type": "markdown",
   "id": "185b6c9b",
   "metadata": {},
   "source": [
    "### using Max-Net"
   ]
  },
  {
   "cell_type": "code",
   "execution_count": 12,
   "id": "a5014cc5",
   "metadata": {},
   "outputs": [
    {
     "name": "stdout",
     "output_type": "stream",
     "text": [
      "y_in: [8.0, 11.0, 2.0, 6.0] \n",
      "\n",
      "closest image to\n",
      " [[ 1  1  1]\n",
      " [-1  1 -1]\n",
      " [-1  1 -1]\n",
      " [-1  1 -1]] \n",
      "is:\n",
      " [[ 1 -1  1]\n",
      " [-1  1 -1]\n",
      " [-1  1 -1]\n",
      " [-1  1 -1]]\n"
     ]
    }
   ],
   "source": [
    "w = np.eye(len(input_array))*(1+epsilon) - epsilon\n",
    "my_list = []\n",
    "answer = []\n",
    "temp_input = copy.deepcopy(input_array)\n",
    "\n",
    "while not is_finished(temp_input):\n",
    "    temp_input = np.matmul(w, temp_input.T)\n",
    "    for i in range(len(temp_input)):\n",
    "        temp_input[i] = relu(temp_input[i])\n",
    "        if temp_input[i] == 0 and i not in my_list:\n",
    "            my_list.append(i)            \n",
    "\n",
    "for i in range(len(temp_input)):\n",
    "    if temp_input[i] != 0 :\n",
    "        my_list.append(i)\n",
    "\n",
    "my_list = my_list[::-1]\n",
    "for i in range(len(my_list)):\n",
    "    answer.append(my_list[i])\n",
    "    \n",
    "print('y_in:', y_in,'\\n')\n",
    "max_ind = answer[0]\n",
    "print('closest image to\\n', x.reshape(4,3), '\\nis:\\n',ims[max_ind].reshape(4,3))"
   ]
  },
  {
   "cell_type": "code",
   "execution_count": null,
   "id": "9a9efc24",
   "metadata": {},
   "outputs": [],
   "source": []
  }
 ],
 "metadata": {
  "kernelspec": {
   "display_name": "Python 3 (ipykernel)",
   "language": "python",
   "name": "python3"
  },
  "language_info": {
   "codemirror_mode": {
    "name": "ipython",
    "version": 3
   },
   "file_extension": ".py",
   "mimetype": "text/x-python",
   "name": "python",
   "nbconvert_exporter": "python",
   "pygments_lexer": "ipython3",
   "version": "3.9.7"
  }
 },
 "nbformat": 4,
 "nbformat_minor": 5
}
